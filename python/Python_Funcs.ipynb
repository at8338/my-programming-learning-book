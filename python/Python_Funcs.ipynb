{
 "cells": [
  {
   "cell_type": "markdown",
   "metadata": {
    "collapsed": true
   },
   "source": [
    "# Python TIPS\n",
    "Pythonの文法知識を深めていきたい所存.\n",
    "\n",
    "基本的に,他のプログラム言語を触ったことがあり,かつ大体Pythonは触っているという人向け.\n",
    "\n",
    "# シーケンス\n",
    "シーケンスはオブジェクトを順番に処理するデータ構造.\n",
    "\n",
    "## 文字列"
   ]
  },
  {
   "cell_type": "code",
   "execution_count": 1,
   "metadata": {
    "collapsed": false
   },
   "outputs": [
    {
     "data": {
      "text/plain": [
       "range(0, 9)"
      ]
     },
     "execution_count": 1,
     "metadata": {},
     "output_type": "execute_result"
    }
   ],
   "source": []
  },
  {
   "cell_type": "markdown",
   "metadata": {
    "collapsed": true
   },
   "source": [
    "## 比較演算子の面白い動き\n",
    "Pythonには比較演算子としてand, or, notなどが用意されているがand, orに関しては以下のような面白い動きがある."
   ]
  },
  {
   "cell_type": "code",
   "execution_count": 2,
   "metadata": {
    "collapsed": false
   },
   "outputs": [
    {
     "data": {
      "text/plain": [
       "2"
      ]
     },
     "execution_count": 2,
     "metadata": {},
     "output_type": "execute_result"
    }
   ],
   "source": [
    "1 and 2"
   ]
  },
  {
   "cell_type": "code",
   "execution_count": 3,
   "metadata": {
    "collapsed": false
   },
   "outputs": [
    {
     "data": {
      "text/plain": [
       "0"
      ]
     },
     "execution_count": 3,
     "metadata": {},
     "output_type": "execute_result"
    }
   ],
   "source": [
    "0 and 1"
   ]
  },
  {
   "cell_type": "code",
   "execution_count": 4,
   "metadata": {
    "collapsed": false
   },
   "outputs": [
    {
     "data": {
      "text/plain": [
       "1"
      ]
     },
     "execution_count": 4,
     "metadata": {},
     "output_type": "execute_result"
    }
   ],
   "source": [
    "1 or 2"
   ]
  },
  {
   "cell_type": "code",
   "execution_count": 5,
   "metadata": {
    "collapsed": false
   },
   "outputs": [
    {
     "data": {
      "text/plain": [
       "1"
      ]
     },
     "execution_count": 5,
     "metadata": {},
     "output_type": "execute_result"
    }
   ],
   "source": [
    "0 or 1"
   ]
  },
  {
   "cell_type": "markdown",
   "metadata": {
    "collapsed": true
   },
   "source": [
    "`and`は左辺が真だった場合に右辺を返し,偽であった場合は左辺を返す.`or`は左辺が真だった場合に左辺を返し,偽であった場合は右辺を返していることがわかる.これを用いるとPythonでも他の言語にある三項演算子のようなことが行える."
   ]
  },
  {
   "cell_type": "code",
   "execution_count": 12,
   "metadata": {
    "collapsed": false
   },
   "outputs": [
    {
     "name": "stdout",
     "output_type": "stream",
     "text": [
      "YES\n"
     ]
    }
   ],
   "source": [
    "y = 20\n",
    "x = (y > 10) and \"YES\" or \"NO\"\n",
    "print(x)"
   ]
  },
  {
   "cell_type": "markdown",
   "metadata": {
    "collapsed": true
   },
   "source": [
    "つまりは\n",
    "`x = 条件 and 真の場合の値 or 偽の場合の値`\n",
    "というようなコードが書ける.更にPython 2.5からは三項演算子的な書き方が追加されたので同じことを以下のようにかける."
   ]
  },
  {
   "cell_type": "code",
   "execution_count": 13,
   "metadata": {
    "collapsed": false
   },
   "outputs": [
    {
     "name": "stdout",
     "output_type": "stream",
     "text": [
      "YES\n"
     ]
    }
   ],
   "source": [
    "y = 20\n",
    "x = \"YES\" if y > 10 else \"NO\"\n",
    "print(x)"
   ]
  },
  {
   "cell_type": "markdown",
   "metadata": {
    "collapsed": true
   },
   "source": [
    "## 関数デコレータ"
   ]
  },
  {
   "cell_type": "markdown",
   "metadata": {
    "collapsed": true
   },
   "source": [
    "## 関数アノテーション\n",
    "Pythonは動的型付け言語のため,型を宣言をする必要はない.しかし,あえて型を指定する方法が関数アノテーションである."
   ]
  },
  {
   "cell_type": "code",
   "execution_count": 14,
   "metadata": {
    "collapsed": false
   },
   "outputs": [
    {
     "name": "stdout",
     "output_type": "stream",
     "text": [
      "ABCDEFGABCDEFGABCDEFG\n"
     ]
    }
   ],
   "source": [
    "def repeat(x: str, y: int) -> str:\n",
    "    return x * y\n",
    "\n",
    "print(repeat(\"ABCDEFG\", 3))"
   ]
  },
  {
   "cell_type": "markdown",
   "metadata": {
    "collapsed": true
   },
   "source": [
    "更にドキュメンテーション文字列としてではなく関数の定義部分に引数の説明や戻り値の注釈を書くことができる."
   ]
  },
  {
   "cell_type": "code",
   "execution_count": 15,
   "metadata": {
    "collapsed": false
   },
   "outputs": [],
   "source": [
    "def add(left: '左項', right: '右項') -> '和':\n",
    "    return left + right"
   ]
  },
  {
   "cell_type": "markdown",
   "metadata": {
    "collapsed": true
   },
   "source": [
    "# itertools\n",
    "この項目は[10.1. itertools — 効率的なループ実行のためのイテレータ生成関数¶(原文)](http://docs.python.jp/3.4/library/itertools.html)の内容をほぼパクったようなものです.\n",
    "\n",
    "## 無限イテレータ\n",
    "無限イテレータはその名の通り何か止まる条件を書かないと止まらないw"
   ]
  },
  {
   "cell_type": "code",
   "execution_count": 23,
   "metadata": {
    "collapsed": false
   },
   "outputs": [
    {
     "name": "stdout",
     "output_type": "stream",
     "text": [
      "itertools.count(start,[step])\n",
      "5 6 7 8 9 \n",
      "itertools.cycle()\n",
      "A B C A B \n",
      "itertools.repeat(obj, times=None)\n",
      "[0, 1, 4, 9, 16, 25, 36, 49, 64, 81]\n"
     ]
    }
   ],
   "source": [
    "# itertools.count(start, [step])\n",
    "# startから無限大まで\n",
    "from itertools import *\n",
    "\n",
    "print(\"itertools.count(start,[step])\")\n",
    "for i in count(5):\n",
    "    if i == 10:\n",
    "        break\n",
    "    print(i, end=' ')\n",
    "print()\n",
    "# itertools.cycle()\n",
    "# 無限回の繰り返し.最後まで行ってもStopIterationは起きない.\n",
    "print(\"itertools.cycle()\")\n",
    "itrs = cycle(\"ABC\")\n",
    "for i, j in enumerate(itrs):\n",
    "    if i == 5:\n",
    "        break\n",
    "    print(j, end=' ')\n",
    "print()\n",
    "\n",
    "# itertools.repeat(obj, times=None)\n",
    "# objを繰返し生成する.なおtimesがしていされていないと,無限回返す.\n",
    "# 以下の様なコードを生成するために用いられることが多い\n",
    "print(\"itertools.repeat(obj, times=None)\")\n",
    "print(list(map(pow, range(10), repeat(2))))"
   ]
  },
  {
   "cell_type": "markdown",
   "metadata": {
    "collapsed": true
   },
   "source": [
    "以下の関数はすべてイテレータを作成して返す.\n"
   ]
  },
  {
   "cell_type": "code",
   "execution_count": 34,
   "metadata": {
    "collapsed": false
   },
   "outputs": [
    {
     "name": "stdout",
     "output_type": "stream",
     "text": [
      "itertools.accumulate(iters[, func])\n",
      "0 1 3 6 10 \n",
      "itertools.chain(*iters)\n",
      "['A', 'B', 'C', 'D', 'E', 'F', 'G']\n",
      "itertools.combinations(iters, r)\n",
      "[('A', 'B'), ('A', 'C'), ('A', 'D'), ('B', 'C'), ('B', 'D'), ('C', 'D')]\n",
      "itertools.product(*iterables, repeat=1)\n",
      "[('A', 'x'), ('A', 'y'), ('B', 'x'), ('B', 'y'), ('C', 'x'), ('C', 'y'), ('D', 'x'), ('D', 'y')]\n",
      "[(0, 0, 0), (0, 0, 1), (0, 1, 0), (0, 1, 1), (1, 0, 0), (1, 0, 1), (1, 1, 0), (1, 1, 1)]\n"
     ]
    }
   ],
   "source": [
    "# itertools.accumulate(iters[, func])\n",
    "# 累積和を返すイテレータを作成する.オプションのfuncは2つの引数を取る必要がある\n",
    "print(\"itertools.accumulate(iters[, func])\")\n",
    "\n",
    "for i in accumulate(range(5)):\n",
    "    print(i,end=\" \")\n",
    "print()\n",
    "\n",
    "# なお最終的な累積値だけを返す関数はfunctools.reduce()がある.\n",
    "\n",
    "# itertools.chain(*iters)\n",
    "# 先頭のitersの全要素を返し, 2番目のiterableの全要素と...と全iterableの要素を返すイテレータを作成する\n",
    "print(\"itertools.chain(*iters)\")\n",
    "print(list(chain(\"ABC\", \"DEFG\")))\n",
    "\n",
    "# itertools.combinations(iters, r)\n",
    "# 組み合わせ.長さrの部分列を返す.\n",
    "print(\"itertools.combinations(iters, r)\")\n",
    "print(list(combinations(\"ABCD\",2)))  # 出力は辞書順\n",
    "\n",
    "# 更に返される要素は 0 <= n <= r のときは n! / r! / (n-r)! であり,r > n の場合は0である.\n",
    "\n",
    "# itertools.product(*iterables, repeat=1)\n",
    "# 直積を返す.なおジェネレータ式の入れ子forループと等価.\n",
    "# つまり product(A, B) は ((x, y) for x in A for y in B) と同じ.\n",
    "# オプションのrepeatはiterable自身との直積を計算するために使用.product(A, repeat=3)はproduct(A, A, A)と等価\n",
    "print(\"itertools.product(*iterables, repeat=1)\")\n",
    "print(list(product(\"ABCD\", \"xy\")))\n",
    "print(list(product(range(2), repeat=3)))"
   ]
  },
  {
   "cell_type": "markdown",
   "metadata": {
    "collapsed": true
   },
   "source": [
    "イテレータを使うことでメモリ上にすべての要素を置く必要がなくなり,メモリ効率が良くなる.更に実行の枷であるforループやジェネレータを使う必要がなくなるため,高速化を図ることができる.\n",
    "\n",
    "さらなる参考文献:\n",
    "\n",
    "* [itertoolsによる順列,組み合わせ,直積のお勉強](http://qiita.com/junkls/items/10384950963056cc8e08)\n",
    "\n",
    "## functools\n",
    "高階関数と呼び出し可能オブジェクトの操作"
   ]
  },
  {
   "cell_type": "raw",
   "metadata": {
    "collapsed": true
   },
   "source": []
  },
  {
   "cell_type": "code",
   "execution_count": null,
   "metadata": {
    "collapsed": false
   },
   "outputs": [],
   "source": []
  }
 ],
 "metadata": {
  "kernelspec": {
   "display_name": "Python 3",
   "language": "python",
   "name": "python3"
  },
  "language_info": {
   "codemirror_mode": {
    "name": "ipython",
    "version": 3
   },
   "file_extension": ".py",
   "mimetype": "text/x-python",
   "name": "python",
   "nbconvert_exporter": "python",
   "pygments_lexer": "ipython3",
   "version": "3.4.3"
  },
  "name": "Untitled.ipynb"
 },
 "nbformat": 4,
 "nbformat_minor": 0
}
